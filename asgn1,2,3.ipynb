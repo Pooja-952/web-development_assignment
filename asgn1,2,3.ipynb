{
 "cells": [
  {
   "cell_type": "markdown",
   "id": "28b8d8f6-d824-4f47-8315-6769a0467b3c",
   "metadata": {},
   "source": [
    "### Q.1 is it a tag of html? If not, what is it and why do we use it?\n",
    "\n",
    "//Solution---> // The declaration instructs the browser on how to interpret and display the HTML code. Its main function is to inform the browser that the document conforms to HTML5, The primary role of the doctype declaration is to ensure that the browser renders the document in standards mode. Using is considered a best practice and is the recommended declaration for HTML5 documents. It guarantees that the document is treated as an HTML5 document and that the browser follows the HTML5 specifications for displaying the content."
   ]
  },
  {
   "cell_type": "markdown",
   "id": "dee588a6-2f38-453d-ac94-413e4bf3db83",
   "metadata": {},
   "source": [
    "### // Q.2 Explain Semantic tags in html? And why do we need it?\n",
    "\n",
    "// Solution---> // Semantic tags in HTML serve the purpose of providing meaning and context to the content they enclose. They enhance readability and comprehension of the HTML code by organizing it into distinct sections. // Example of semantic tags :-\n",
    "\n",
    ", ,\n",
    ", , , .\n",
    "// Semantic tags are needed as they enhance the structure, accessibility, search engine visibility, consistency, and maintainability of web pages, making them an integral part of modern HTML development."
   ]
  },
  {
   "cell_type": "markdown",
   "id": "17e335c3-3b59-498e-860d-ad8e8d532f10",
   "metadata": {},
   "source": [
    "### // Q.3 Differentiate between HTML Tags and Elements?\n",
    "\n",
    "//Solution---> // HTML Tags: // HTML tags serve as the markup elements that define the structure and semantics of an HTML document. They are enclosed within angle brackets (< >,</>) and consist of the tag name, such as\n",
    "\n",
    ",\n",
    ",\n",
    ",\n",
    "\n",
    ", , etc. These tags are used to mark the beginning and end of an element.\n",
    "// HTML Elements: // HTML elements include the HTML tag, its associated attributes, and the content within it. An HTML element is formed by the combination of the opening tag, optional content, and the closing tag. It represents a specific part or component within an HTML document. For instance, in the element\n",
    "\n",
    "Hello world\n",
    ", the tag \"h6\" forms the element, and the angle brackets serve as the tags enclosing the element. The tags hold the elements, and the elements hold the data."
   ]
  },
  {
   "cell_type": "markdown",
   "id": "e031d909-e3a3-44ee-bf2e-b50cbe35ab0e",
   "metadata": {},
   "source": [
    "### // Q.8 What is the difference between\n",
    "\n",
    "tag and\n",
    "\n",
    "\n",
    "tag?\n",
    "// Solution--->\n",
    "\n",
    "The  tag is an HTML element used to insert images into a web page. It is a self-closing tag and doesn't require a closing tag. The  tag is used to specify the image source, alt text for accessibility, and additional attributes like width and height. It represents a single image in the document. On the other hand, the\n",
    "\n",
    "tag serves the purpose of grouping self-contained content blocks, such as images or multimedia objects, along with their respective captions. It provides a semantic structure for the content, making it easier to style and ensure accessibility. The tag is often used alongside the tag, which provides the caption for the enclosed content. The difference between\n",
    "\n",
    "\n",
    "tag and the tag is that the\n",
    "\n",
    "\n",
    "tag is used specifically for inserting standalone images, whereas the tag is used to group an image or multimedia object together with its caption."
   ]
  },
  {
   "cell_type": "markdown",
   "id": "22ad2e52-3a00-45e9-b5c0-cfce8bf337f5",
   "metadata": {},
   "source": [
    "### // Q.9 What’s the difference between html tag and attribute and give example of some global attributes?\n",
    "\n",
    "// Solution--->\n",
    "\n",
    "HTML Tags: HTML tags serve as the markup elements utilized to establish the structure and meaning of an HTML document. These tags are enclosed within angle brackets (< >) and consist of the tag name, such as ,\n",
    "\n",
    ",\n",
    ",\n",
    ",\n",
    "\n",
    ", , and more. HTML tags play a crucial role in indicating the initiation and conclusion of an element or representing stand-alone elements.\n",
    "HTML Attributes: On the other hand, HTML attributes are employed within HTML tags to provide supplementary information or configure elements. These attributes are specific to certain HTML tags and modify their behavior, appearance, or functionality. Attributes are specified in the format of key-value pairs within the opening tag of an element, utilizing the attributeName=\"value\" structure. Some examples of attributes include src, href, class, id, alt, style.\n",
    "\n",
    "Global Attributes: Global attributes are attributes that can be used with any HTML tag regardless of its specific purpose or meaning. Some examples of global attributes include:\n",
    "\n",
    "class: Specifies one or more CSS class names to apply to an element for styling.\n",
    "id: Provides a unique identifier for an element, allowing it to be targeted by CSS.\n",
    "style: Allows inline styling of an element by specifying CSS rules directly."
   ]
  },
  {
   "cell_type": "code",
   "execution_count": null,
   "id": "667b6e6c-8171-4040-8030-f1a730662a4c",
   "metadata": {},
   "outputs": [],
   "source": []
  }
 ],
 "metadata": {
  "kernelspec": {
   "display_name": "Python 3 (ipykernel)",
   "language": "python",
   "name": "python3"
  },
  "language_info": {
   "codemirror_mode": {
    "name": "ipython",
    "version": 3
   },
   "file_extension": ".py",
   "mimetype": "text/x-python",
   "name": "python",
   "nbconvert_exporter": "python",
   "pygments_lexer": "ipython3",
   "version": "3.10.6"
  }
 },
 "nbformat": 4,
 "nbformat_minor": 5
}
